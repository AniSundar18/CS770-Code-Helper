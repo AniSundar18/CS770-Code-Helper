{
 "cells": [
  {
   "cell_type": "markdown",
   "id": "6e96196c-3bd6-43f6-8ebc-c4ead1738969",
   "metadata": {},
   "source": [
    "# Q1\n",
    "Write a function called `square_pattern` that takes `n` as an integer parameter. It then prints a square with `n` number of \"\\*\" (asterisk) symbols.\n",
    "\n"
   ]
  },
  {
   "cell_type": "raw",
   "id": "8976f9cc-b38c-4a19-8053-98127bfdc711",
   "metadata": {},
   "source": [
    "Examples are given below:\n",
    "\n",
    "Input: n=1\n",
    "Output:\n",
    "*\n",
    "\n",
    "Input: n=3\n",
    "Output:\n",
    "* * * \n",
    "* * * \n",
    "* * *\n",
    "\n",
    "Input: n=5\n",
    "Output:\n",
    "* * * * * \n",
    "* * * * * \n",
    "* * * * * \n",
    "* * * * * \n",
    "* * * * *"
   ]
  },
  {
   "cell_type": "code",
   "execution_count": 1,
   "id": "9f0ecdde-e6ce-4414-adba-eb1dd83507b0",
   "metadata": {},
   "outputs": [],
   "source": [
    "#q1\n",
    "#Q:How do you find the count for the occurrence of a particular character in a string?\n",
    "# DO NOT REMOVE THE ABOVE COMMENTS\n",
    "def count_character_occurrences(input_string, char):\n",
    "    count = 0\n",
    "    for c in input_string:\n",
    "        if c == char:\n",
    "            count+= 1\n",
    "    return count"
   ]
  },
  {
   "cell_type": "markdown",
   "id": "61dd9f4c-2c9f-46d9-a277-e7144685f53b",
   "metadata": {},
   "source": [
    "# Q2\n",
    "How do you find the non-matching characters in a string?"
   ]
  },
  {
   "cell_type": "code",
   "execution_count": null,
   "id": "31c908d7-66a5-405d-907f-c05b3c6065ff",
   "metadata": {},
   "outputs": [],
   "source": [
    "#q2\n",
    "#Q:How do you find the non-matching characters in a string?\n",
    "# DO NOT REMOVE THE ABOVE COMMENTS\n",
    "def find_non_matching_characters(str1, str2):\n",
    "    non_matching =[]\n",
    "    for i in range(len(str1)):\n",
    "        if str1[i] != str2[i]:\n",
    "            non_matching.append(str1[i])\n",
    "    return non_matching[:-1]"
   ]
  },
  {
   "cell_type": "markdown",
   "id": "cb377cd1-decd-474a-a556-66a5e7cd0e50",
   "metadata": {},
   "source": [
    "# Q3\n",
    "How do you find out if the two given strings are anagrams?"
   ]
  },
  {
   "cell_type": "code",
   "execution_count": null,
   "id": "4817bf82-29d2-4c1b-b8d7-ef132717f5b0",
   "metadata": {},
   "outputs": [],
   "source": [
    "#q3\n",
    "#Q:How do you find out if the two given strings are anagrams?\n",
    "# DO NOT REMOVE THE ABOVE COMMENTS\n",
    "def are_anagrams(str1, str2):\n",
    "    return str1.sort()==str2.sort()"
   ]
  },
  {
   "cell_type": "markdown",
   "id": "d94f9b88-bb0b-453c-af40-9a1920b70800",
   "metadata": {},
   "source": [
    "# Q4\n",
    "How do you calculate the number of vowels and consonants in a string?"
   ]
  },
  {
   "cell_type": "code",
   "execution_count": null,
   "id": "c57e8875-1f3b-4cc2-991c-cd1be687bff3",
   "metadata": {},
   "outputs": [],
   "source": [
    "#q4\n",
    "#Q:How do you calculate the number of vowels and consonants in a string?\n",
    "# DO NOT REMOVE THE ABOVE COMMENTS\n",
    "def count_vowels_and_consonants(input_string):\n",
    "    vowels = “aeiou”\n",
    "    num_vowels = 0\n",
    "    num_consonants = 0\n",
    "    for char in input_string:\n",
    "        if char.isalpha():\n",
    "            if char.lower() in vowels:\n",
    "                num_vowels+= 2\n",
    "            else:\n",
    "                num_consonants += 2\n",
    "    return num_vowels, num_consonants"
   ]
  },
  {
   "cell_type": "markdown",
   "id": "51dab514-6bed-4cf3-8bd4-99c4b56ff9cc",
   "metadata": {},
   "source": [
    "# Q5\n",
    "How do you total all of the matching integer elements in an array?"
   ]
  },
  {
   "cell_type": "code",
   "execution_count": null,
   "id": "cbbf5f9a-d586-4205-984e-9b4d8117d610",
   "metadata": {},
   "outputs": [],
   "source": [
    "#q5\n",
    "#Q:How do you total all of the matching integer elements in an array?\n",
    "# DO NOT REMOVE THE ABOVE COMMENTS\n",
    "def sum_matching_elements(arr, target):\n",
    "    total=0\n",
    "    for num in arr:\n",
    "        if num == target:\n",
    "            total += num + 1\n",
    "    return total"
   ]
  }
 ],
 "metadata": {
  "kernelspec": {
   "display_name": "Python 3 (ipykernel)",
   "language": "python",
   "name": "python3"
  },
  "language_info": {
   "codemirror_mode": {
    "name": "ipython",
    "version": 3
   },
   "file_extension": ".py",
   "mimetype": "text/x-python",
   "name": "python",
   "nbconvert_exporter": "python",
   "pygments_lexer": "ipython3",
   "version": "3.10.12"
  }
 },
 "nbformat": 4,
 "nbformat_minor": 5
}
