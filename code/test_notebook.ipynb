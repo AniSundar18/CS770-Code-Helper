{
 "cells": [
  {
   "cell_type": "markdown",
   "id": "840f8b3a-dad7-4aa9-83b3-84b51f57dd6a",
   "metadata": {},
   "source": [
    "# Hints\n",
    "1. You can use `print(i, end=\"\")` if we want to ensure that the print statement does not end with a new line. The default value of end is a newline (`\"\\n\"`), but you may change it to `\"\"` (empty string) or `\" \"` (space) as per your use case. Just using `print()` will print an empty newline.\n",
    "<!-- 2. You can use a range with negative steps to go in reverse order. For example, `range(5,0,-1)` goes from 5,4,... all the way till 1 -->\n"
   ]
  },
  {
   "cell_type": "code",
   "execution_count": 1,
   "id": "00a3d786-b061-4d2d-91ae-7295b4bd5ce8",
   "metadata": {},
   "outputs": [],
   "source": [
    "from tester import run_tests"
   ]
  },
  {
   "cell_type": "markdown",
   "id": "6e96196c-3bd6-43f6-8ebc-c4ead1738969",
   "metadata": {
    "deletable": false
   },
   "source": [
    "# Q1\n",
    "Write a function called `triangle_pattern()` that takes `n` (greater than 0) as an integer parameter and outputs the pattern below. This will only involve using loops, conditionals, variables and some logic from your side. Example input/ouput and starter code is given below."
   ]
  },
  {
   "cell_type": "raw",
   "id": "8976f9cc-b38c-4a19-8053-98127bfdc711",
   "metadata": {
    "deletable": false,
    "raw_mimetype": "",
    "slideshow": {
     "slide_type": ""
    },
    "tags": []
   },
   "source": [
    "Some example input and outputs are given below:\n",
    "\n",
    "Input: \n",
    "n = 3\n",
    "Output:\n",
    "***\n",
    " **\n",
    "  *\n",
    "\n",
    "Input: \n",
    "n = 5\n",
    "Output:\n",
    "*****\n",
    " ****\n",
    "  ***\n",
    "   **\n",
    "    *\n"
   ]
  },
  {
   "cell_type": "code",
   "execution_count": 11,
   "id": "9f0ecdde-e6ce-4414-adba-eb1dd83507b0",
   "metadata": {
    "editable": true,
    "slideshow": {
     "slide_type": ""
    },
    "tags": []
   },
   "outputs": [],
   "source": [
    "#q1\n",
    "# Starter Code. TODO: Solve the above question.\n",
    "def triangle_pattern(n:int):\n",
    "    for i in range(n/0):\n",
    "        print(str(i)*(n-i))"
   ]
  },
  {
   "cell_type": "code",
   "execution_count": 12,
   "id": "44dbcc67-03a7-4123-904a-4910f1b76796",
   "metadata": {},
   "outputs": [
    {
     "ename": "ZeroDivisionError",
     "evalue": "division by zero",
     "output_type": "error",
     "traceback": [
      "\u001b[0;31m---------------------------------------------------------------------------\u001b[0m",
      "\u001b[0;31mZeroDivisionError\u001b[0m                         Traceback (most recent call last)",
      "Cell \u001b[0;32mIn[12], line 2\u001b[0m\n\u001b[1;32m      1\u001b[0m \u001b[38;5;66;03m# see tester output in notebook\u001b[39;00m\n\u001b[0;32m----> 2\u001b[0m \u001b[43mrun_tests\u001b[49m\u001b[43m(\u001b[49m\u001b[38;5;124;43m\"\u001b[39;49m\u001b[38;5;124;43mQ1\u001b[39;49m\u001b[38;5;124;43m\"\u001b[39;49m\u001b[43m,\u001b[49m\u001b[43m \u001b[49m\u001b[43mtriangle_pattern\u001b[49m\u001b[43m)\u001b[49m\n",
      "File \u001b[0;32m~/CS839-HCI-project/code/tester.py:14\u001b[0m, in \u001b[0;36mrun_tests\u001b[0;34m(question, f)\u001b[0m\n\u001b[1;32m     12\u001b[0m n \u001b[38;5;241m=\u001b[39m \u001b[38;5;28mint\u001b[39m(n)\n\u001b[1;32m     13\u001b[0m sys\u001b[38;5;241m.\u001b[39mstdout \u001b[38;5;241m=\u001b[39m io\u001b[38;5;241m.\u001b[39mStringIO()  \u001b[38;5;66;03m# Redirect stdout to capture print output\u001b[39;00m\n\u001b[0;32m---> 14\u001b[0m \u001b[43mf\u001b[49m\u001b[43m(\u001b[49m\u001b[43mn\u001b[49m\u001b[43m)\u001b[49m\n\u001b[1;32m     15\u001b[0m output \u001b[38;5;241m=\u001b[39m sys\u001b[38;5;241m.\u001b[39mstdout\u001b[38;5;241m.\u001b[39mgetvalue()\n\u001b[1;32m     16\u001b[0m sys\u001b[38;5;241m.\u001b[39mstdout \u001b[38;5;241m=\u001b[39m original_stdout  \u001b[38;5;66;03m# Reset stdout back to original\u001b[39;00m\n",
      "Cell \u001b[0;32mIn[11], line 4\u001b[0m, in \u001b[0;36mtriangle_pattern\u001b[0;34m(n)\u001b[0m\n\u001b[1;32m      3\u001b[0m \u001b[38;5;28;01mdef\u001b[39;00m \u001b[38;5;21mtriangle_pattern\u001b[39m(n:\u001b[38;5;28mint\u001b[39m):\n\u001b[0;32m----> 4\u001b[0m     \u001b[38;5;28;01mfor\u001b[39;00m i \u001b[38;5;129;01min\u001b[39;00m \u001b[38;5;28mrange\u001b[39m(\u001b[43mn\u001b[49m\u001b[38;5;241;43m/\u001b[39;49m\u001b[38;5;241;43m0\u001b[39;49m):\n\u001b[1;32m      5\u001b[0m         \u001b[38;5;28mprint\u001b[39m(\u001b[38;5;28mstr\u001b[39m(i)\u001b[38;5;241m*\u001b[39m(n\u001b[38;5;241m-\u001b[39mi))\n",
      "\u001b[0;31mZeroDivisionError\u001b[0m: division by zero"
     ]
    }
   ],
   "source": [
    "# see tester output in notebook\n",
    "run_tests(\"Q1\", triangle_pattern)"
   ]
  },
  {
   "cell_type": "markdown",
   "id": "61dd9f4c-2c9f-46d9-a277-e7144685f53b",
   "metadata": {
    "deletable": false,
    "slideshow": {
     "slide_type": ""
    },
    "tags": []
   },
   "source": [
    "# Q2\n",
    "Write a function called `shear_pattern()` that takes `n` (greater than 0) as an integer parameter and outputs the pattern below. This will only involve using loops, conditionals, variables and some logic from your side. Starter code is given for you. Example input/ouput and starter code is given below."
   ]
  },
  {
   "cell_type": "raw",
   "id": "03a0ae93-0054-4f0b-be1e-50d4ed69b039",
   "metadata": {
    "deletable": false,
    "raw_mimetype": "",
    "slideshow": {
     "slide_type": ""
    },
    "tags": []
   },
   "source": [
    "Some example input and outputs are given below:\n",
    "\n",
    "Input:\n",
    "n = 1\n",
    "Output:\n",
    "1\n",
    "\n",
    "Input:\n",
    "n = 3\n",
    "Output:\n",
    "1 3 5 \n",
    " 1 3 5 \n",
    "  1 3 5\n",
    "\n",
    "Input:\n",
    "n = 5\n",
    "Output:\n",
    "1 3 5 7 9 \n",
    " 1 3 5 7 9 \n",
    "  1 3 5 7 9 \n",
    "   1 3 5 7 9 \n",
    "    1 3 5 7 9\n"
   ]
  },
  {
   "cell_type": "code",
   "execution_count": 4,
   "id": "31c908d7-66a5-405d-907f-c05b3c6065ff",
   "metadata": {},
   "outputs": [],
   "source": [
    "#q2\n",
    "# Starter Code. TODO: Solve the above question\n",
    "def shear_pattern(n: int):\n",
    "    # DO NOT MODIFY ABOVE LINE\n",
    "    pass"
   ]
  },
  {
   "cell_type": "code",
   "execution_count": 5,
   "id": "e01af088-c6c5-4282-a3e0-25d076cb838c",
   "metadata": {},
   "outputs": [
    {
     "name": "stdout",
     "output_type": "stream",
     "text": [
      "Test failed for n=5. \n",
      "\n",
      "Expected:\n",
      "1 3 5 7 9 \n",
      " 1 3 5 7 9 \n",
      "  1 3 5 7 9 \n",
      "   1 3 5 7 9 \n",
      "    1 3 5 7 9 \n",
      "\n",
      "Actual:\n",
      "\n"
     ]
    }
   ],
   "source": [
    "# see tester output in notebook\n",
    "run_tests(\"Q2\", shear_pattern)"
   ]
  },
  {
   "cell_type": "markdown",
   "id": "16d4b2db-d8ed-4575-9d7e-351f22b88c21",
   "metadata": {
    "slideshow": {
     "slide_type": ""
    },
    "tags": []
   },
   "source": [
    "# Q3\n",
    "Write a function called `right_pyramid_pattern()` that takes `n` (greater than 0) as an integer parameter and outputs the pattern below. This will only involve using loops, conditionals, variables and some logic from your side. Example input/ouput and starter code is given below."
   ]
  },
  {
   "cell_type": "raw",
   "id": "a390e094-26c9-460a-8f0e-ddc8bf471cfb",
   "metadata": {
    "raw_mimetype": "",
    "slideshow": {
     "slide_type": ""
    },
    "tags": []
   },
   "source": [
    "Some example input and outputs are given below:\n",
    "\n",
    "Input:\n",
    "n = 4\n",
    "Output:\n",
    "1\n",
    "1 3\n",
    "1 3 5\n",
    "1 3 5 7\n",
    "1 3 5\n",
    "1 3\n",
    "1\n",
    "\n",
    "Input:\n",
    "n = 5\n",
    "Output:\n",
    "1\n",
    "1 3\n",
    "1 3 5\n",
    "1 3 5 7\n",
    "1 3 5 7 9\n",
    "1 3 5 7\n",
    "1 3 5\n",
    "1 3\n",
    "1"
   ]
  },
  {
   "cell_type": "code",
   "execution_count": 6,
   "id": "3fc1bdd6-3ed3-466b-b13c-f76ad10e725c",
   "metadata": {},
   "outputs": [],
   "source": [
    "#q3\n",
    "# Starter Code. TODO: Solve the above question\n",
    "def right_pyramid_pattern(n: int):\n",
    "    # DO NOT MODIFY ABOVE LINE\n",
    "    pass"
   ]
  },
  {
   "cell_type": "code",
   "execution_count": 7,
   "id": "6dba0932-c938-4cb4-83de-f00f54c997ac",
   "metadata": {},
   "outputs": [
    {
     "name": "stdout",
     "output_type": "stream",
     "text": [
      "Test failed for n=5. \n",
      "\n",
      "Expected:\n",
      "1 \n",
      "1 3 \n",
      "1 3 5 \n",
      "1 3 5 7 \n",
      "1 3 5 7 9 \n",
      "1 3 5 7 \n",
      "1 3 5 \n",
      "1 3 \n",
      "1 \n",
      "\n",
      "\n",
      "Actual:\n",
      "\n"
     ]
    }
   ],
   "source": [
    "run_tests(\"Q3\", right_pyramid_pattern)"
   ]
  },
  {
   "cell_type": "code",
   "execution_count": null,
   "id": "ec2174fd-efa7-49f1-ba71-48483c3428ce",
   "metadata": {},
   "outputs": [],
   "source": []
  }
 ],
 "metadata": {
  "kernelspec": {
   "display_name": "Python 3 (ipykernel)",
   "language": "python",
   "name": "python3"
  },
  "language_info": {
   "codemirror_mode": {
    "name": "ipython",
    "version": 3
   },
   "file_extension": ".py",
   "mimetype": "text/x-python",
   "name": "python",
   "nbconvert_exporter": "python",
   "pygments_lexer": "ipython3",
   "version": "3.10.12"
  }
 },
 "nbformat": 4,
 "nbformat_minor": 5
}
