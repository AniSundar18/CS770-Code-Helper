{
 "cells": [
  {
   "cell_type": "markdown",
   "id": "6e96196c-3bd6-43f6-8ebc-c4ead1738969",
   "metadata": {
    "deletable": false,
    "editable": false
   },
   "source": [
    "# Q1\n",
    "Write a function called `square_pattern` that takes `n` as an integer parameter. It then prints a square with `n` number of \"\\*\" (asterisk) symbols."
   ]
  },
  {
   "cell_type": "raw",
   "id": "8976f9cc-b38c-4a19-8053-98127bfdc711",
   "metadata": {
    "deletable": false,
    "editable": false,
    "raw_mimetype": "",
    "slideshow": {
     "slide_type": ""
    },
    "tags": []
   },
   "source": [
    "Some example input and outputs are given below:\n",
    "\n",
    "Input: n=1\n",
    "Output:\n",
    "*\n",
    "\n",
    "Input: n=3\n",
    "Output:\n",
    "* * * \n",
    "* * * \n",
    "* * *\n",
    "\n",
    "Input: n=5\n",
    "Output:\n",
    "* * * * * \n",
    "* * * * * \n",
    "* * * * * \n",
    "* * * * * \n",
    "* * * * *"
   ]
  },
  {
   "cell_type": "code",
   "execution_count": 4,
   "id": "9f0ecdde-e6ce-4414-adba-eb1dd83507b0",
   "metadata": {
    "editable": true,
    "slideshow": {
     "slide_type": ""
    },
    "tags": []
   },
   "outputs": [],
   "source": [
    "#q1\n",
    "# Starter Code. TODO: Solve the above question\n",
    "def square_pattern(n:int):\n",
    "    for i in range(n);\n",
    "        print(\"* \"*n+1)"
   ]
  },
  {
   "cell_type": "markdown",
   "id": "61dd9f4c-2c9f-46d9-a277-e7144685f53b",
   "metadata": {
    "deletable": false,
    "editable": false,
    "slideshow": {
     "slide_type": ""
    },
    "tags": []
   },
   "source": [
    "# Q2\n",
    "Write a function called `right_triangle` that takes `n` as an integer parameter. It then prints a triangle of base length `n` and height `n`, all with \"\\*\" (asterisk) symbols."
   ]
  },
  {
   "cell_type": "raw",
   "id": "03a0ae93-0054-4f0b-be1e-50d4ed69b039",
   "metadata": {
    "deletable": false,
    "editable": false,
    "raw_mimetype": "",
    "slideshow": {
     "slide_type": ""
    },
    "tags": []
   },
   "source": [
    "Some example input and outputs are given below:\n",
    "\n",
    "Input: n=1\n",
    "Output:\n",
    "*\n",
    "\n",
    "Input: n=3\n",
    "Output:\n",
    "*\n",
    "* *\n",
    "* * *\n",
    "\n",
    "Input: n=5\n",
    "Output:\n",
    "* \n",
    "* * \n",
    "* * * \n",
    "* * * * \n",
    "* * * * *"
   ]
  },
  {
   "cell_type": "code",
   "execution_count": 3,
   "id": "31c908d7-66a5-405d-907f-c05b3c6065ff",
   "metadata": {},
   "outputs": [],
   "source": [
    "#q2\n",
    "# Starter Code. TODO: Solve the above question\n",
    "def right_triangle(n):\n",
    "    for i in range(1, n + 1):\n",
    "        print(\"* \"*i)"
   ]
  }
 ],
 "metadata": {
  "kernelspec": {
   "display_name": "Python 3 (ipykernel)",
   "language": "python",
   "name": "python3"
  },
  "language_info": {
   "codemirror_mode": {
    "name": "ipython",
    "version": 3
   },
   "file_extension": ".py",
   "mimetype": "text/x-python",
   "name": "python",
   "nbconvert_exporter": "python",
   "pygments_lexer": "ipython3",
   "version": "3.10.12"
  }
 },
 "nbformat": 4,
 "nbformat_minor": 5
}
